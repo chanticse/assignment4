{
 "cells": [
  {
   "cell_type": "code",
   "execution_count": 1,
   "id": "eeff2ea0",
   "metadata": {},
   "outputs": [
    {
     "name": "stdout",
     "output_type": "stream",
     "text": [
      "<module 'numpy.version' from 'C:\\\\Users\\\\chanti\\\\Music\\\\chanti\\\\lib\\\\site-packages\\\\numpy\\\\version.py'>\n",
      "blas_mkl_info:\n",
      "    libraries = ['mkl_rt']\n",
      "    library_dirs = ['C:/Users/chanti/Music/chanti\\\\Library\\\\lib']\n",
      "    define_macros = [('SCIPY_MKL_H', None), ('HAVE_CBLAS', None)]\n",
      "    include_dirs = ['C:/Users/chanti/Music/chanti\\\\Library\\\\include']\n",
      "blas_opt_info:\n",
      "    libraries = ['mkl_rt']\n",
      "    library_dirs = ['C:/Users/chanti/Music/chanti\\\\Library\\\\lib']\n",
      "    define_macros = [('SCIPY_MKL_H', None), ('HAVE_CBLAS', None)]\n",
      "    include_dirs = ['C:/Users/chanti/Music/chanti\\\\Library\\\\include']\n",
      "lapack_mkl_info:\n",
      "    libraries = ['mkl_rt']\n",
      "    library_dirs = ['C:/Users/chanti/Music/chanti\\\\Library\\\\lib']\n",
      "    define_macros = [('SCIPY_MKL_H', None), ('HAVE_CBLAS', None)]\n",
      "    include_dirs = ['C:/Users/chanti/Music/chanti\\\\Library\\\\include']\n",
      "lapack_opt_info:\n",
      "    libraries = ['mkl_rt']\n",
      "    library_dirs = ['C:/Users/chanti/Music/chanti\\\\Library\\\\lib']\n",
      "    define_macros = [('SCIPY_MKL_H', None), ('HAVE_CBLAS', None)]\n",
      "    include_dirs = ['C:/Users/chanti/Music/chanti\\\\Library\\\\include']\n",
      "Supported SIMD extensions in this NumPy install:\n",
      "    baseline = SSE,SSE2,SSE3\n",
      "    found = SSSE3,SSE41,POPCNT,SSE42,AVX,F16C,FMA3,AVX2\n",
      "    not found = AVX512F,AVX512CD,AVX512_SKX,AVX512_CLX,AVX512_CNL\n",
      "None\n"
     ]
    }
   ],
   "source": [
    "import numpy as np\n",
    "print(np.version)\n",
    "print(np.show_config())"
   ]
  },
  {
   "cell_type": "code",
   "execution_count": 3,
   "id": "aa5939e0",
   "metadata": {},
   "outputs": [
    {
     "name": "stdout",
     "output_type": "stream",
     "text": [
      "add(x1, x2, /, out=None, *, where=True, casting='same_kind', order='K', dtype=None, subok=True[, signature, extobj])\n",
      "\n",
      "Add arguments element-wise.\n",
      "\n",
      "Parameters\n",
      "----------\n",
      "x1, x2 : array_like\n",
      "    The arrays to be added.\n",
      "    If ``x1.shape != x2.shape``, they must be broadcastable to a common\n",
      "    shape (which becomes the shape of the output).\n",
      "out : ndarray, None, or tuple of ndarray and None, optional\n",
      "    A location into which the result is stored. If provided, it must have\n",
      "    a shape that the inputs broadcast to. If not provided or None,\n",
      "    a freshly-allocated array is returned. A tuple (possible only as a\n",
      "    keyword argument) must have length equal to the number of outputs.\n",
      "where : array_like, optional\n",
      "    This condition is broadcast over the input. At locations where the\n",
      "    condition is True, the `out` array will be set to the ufunc result.\n",
      "    Elsewhere, the `out` array will retain its original value.\n",
      "    Note that if an uninitialized `out` array is created via the default\n",
      "    ``out=None``, locations within it where the condition is False will\n",
      "    remain uninitialized.\n",
      "**kwargs\n",
      "    For other keyword-only arguments, see the\n",
      "    :ref:`ufunc docs <ufuncs.kwargs>`.\n",
      "\n",
      "Returns\n",
      "-------\n",
      "add : ndarray or scalar\n",
      "    The sum of `x1` and `x2`, element-wise.\n",
      "    This is a scalar if both `x1` and `x2` are scalars.\n",
      "\n",
      "Notes\n",
      "-----\n",
      "Equivalent to `x1` + `x2` in terms of array broadcasting.\n",
      "\n",
      "Examples\n",
      "--------\n",
      ">>> np.add(1.0, 4.0)\n",
      "5.0\n",
      ">>> x1 = np.arange(9.0).reshape((3, 3))\n",
      ">>> x2 = np.arange(3.0)\n",
      ">>> np.add(x1, x2)\n",
      "array([[  0.,   2.,   4.],\n",
      "       [  3.,   5.,   7.],\n",
      "       [  6.,   8.,  10.]])\n",
      "\n",
      "The ``+`` operator can be used as a shorthand for ``np.add`` on ndarrays.\n",
      "\n",
      ">>> x1 = np.arange(9.0).reshape((3, 3))\n",
      ">>> x2 = np.arange(3.0)\n",
      ">>> x1 + x2\n",
      "array([[ 0.,  2.,  4.],\n",
      "       [ 3.,  5.,  7.],\n",
      "       [ 6.,  8., 10.]])\n",
      "None\n"
     ]
    }
   ],
   "source": [
    "print(np.info(np.add))"
   ]
  },
  {
   "cell_type": "code",
   "execution_count": 8,
   "id": "eac4138e",
   "metadata": {},
   "outputs": [
    {
     "name": "stdout",
     "output_type": "stream",
     "text": [
      "True\n",
      "False\n"
     ]
    }
   ],
   "source": [
    "a1=np.array([1,2,3,])\n",
    "print(a1.all())\n",
    "a2=np.array([0,3,4,0,0,np.nan,np.inf])\n",
    "print(a2.all())"
   ]
  },
  {
   "cell_type": "code",
   "execution_count": 8,
   "id": "0a71674b",
   "metadata": {},
   "outputs": [
    {
     "name": "stdout",
     "output_type": "stream",
     "text": [
      "True\n",
      "True\n"
     ]
    }
   ],
   "source": [
    "print(a1.any())\n",
    "print(a2.any())"
   ]
  },
  {
   "cell_type": "code",
   "execution_count": 9,
   "id": "16fc5ad6",
   "metadata": {},
   "outputs": [
    {
     "name": "stdout",
     "output_type": "stream",
     "text": [
      "False\n",
      "False\n"
     ]
    }
   ],
   "source": [
    "a3=np.array([0,0,0])\n",
    "print(a3.all())\n",
    "print(a3.any())"
   ]
  },
  {
   "cell_type": "code",
   "execution_count": 32,
   "id": "fc6deead",
   "metadata": {},
   "outputs": [
    {
     "name": "stdout",
     "output_type": "stream",
     "text": [
      "[False False False]\n",
      "[False False False]\n",
      "[False False False]\n"
     ]
    }
   ],
   "source": [
    "#test element wise for +ve or -ve\n",
    "print(np.isposinf(a1))\n",
    "print(np.isneginf(a1))\n",
    "print(np.isinf(a1))\n"
   ]
  },
  {
   "cell_type": "code",
   "execution_count": 12,
   "id": "02dc1938",
   "metadata": {},
   "outputs": [
    {
     "name": "stdout",
     "output_type": "stream",
     "text": [
      "[ True  True  True]\n"
     ]
    }
   ],
   "source": [
    "#isinfinite\n",
    "print(np.isfinite(a1))"
   ]
  },
  {
   "cell_type": "code",
   "execution_count": 20,
   "id": "2bb07f66",
   "metadata": {},
   "outputs": [
    {
     "name": "stdout",
     "output_type": "stream",
     "text": [
      "[ True  True  True False False]\n"
     ]
    }
   ],
   "source": [
    "ar=np.array([1,2,0,np.nan,np.inf])\n",
    "print(np.isfinite(ar))"
   ]
  },
  {
   "cell_type": "code",
   "execution_count": 29,
   "id": "82966aea",
   "metadata": {},
   "outputs": [
    {
     "name": "stdout",
     "output_type": "stream",
     "text": [
      "[ True  True]\n"
     ]
    }
   ],
   "source": [
    "ar1=np.array([23.45,12.345])\n",
    "print(np.isfinite(ar1))"
   ]
  },
  {
   "cell_type": "code",
   "execution_count": 41,
   "id": "d301d02e",
   "metadata": {},
   "outputs": [
    {
     "name": "stdout",
     "output_type": "stream",
     "text": [
      "[False False False False]\n"
     ]
    }
   ],
   "source": [
    "ar2=([np.nan,np.inf,565,-67])\n",
    "print(np.isneginf(ar2))"
   ]
  },
  {
   "cell_type": "code",
   "execution_count": 5,
   "id": "7dfe5165",
   "metadata": {},
   "outputs": [
    {
     "name": "stdout",
     "output_type": "stream",
     "text": [
      "[ True False False False]\n"
     ]
    }
   ],
   "source": [
    "import numpy as np\n",
    "ar2=([np.nan,np.inf,565,-67])\n",
    "print(np.isnan(ar2))"
   ]
  },
  {
   "cell_type": "code",
   "execution_count": 15,
   "id": "89afea36",
   "metadata": {},
   "outputs": [
    {
     "name": "stdout",
     "output_type": "stream",
     "text": [
      "False\n",
      "[ True  True  True  True  True  True  True False]\n",
      "[False False False False False False False  True]\n"
     ]
    }
   ],
   "source": [
    "import numpy as np\n",
    "a=np.array([1,2,3,3.4,56,np.nan,np.inf,1+1j])\n",
    "print(np.isscalar(a))\n",
    "print(np.isreal(a))\n",
    "print(np.iscomplex(a))"
   ]
  },
  {
   "cell_type": "code",
   "execution_count": 16,
   "id": "239b2885",
   "metadata": {},
   "outputs": [
    {
     "name": "stdout",
     "output_type": "stream",
     "text": [
      "True\n"
     ]
    }
   ],
   "source": [
    "print(np.isscalar(1))"
   ]
  },
  {
   "cell_type": "code",
   "execution_count": 1,
   "id": "f4bda331",
   "metadata": {},
   "outputs": [
    {
     "name": "stdout",
     "output_type": "stream",
     "text": [
      "[2 3 4]\n",
      "[89  0  3]\n",
      "[False  True  True]\n",
      "[False  True  True]\n",
      "[ True False False]\n",
      "[False  True  True]\n"
     ]
    }
   ],
   "source": [
    "import numpy as np\n",
    "x=np.array([2,3,4])\n",
    "y=np.array([89,0,3])\n",
    "print(x)\n",
    "print(y)\n",
    "print(np.greater(x,y))\n",
    "print(np.greater_equal(x,y))\n",
    "print(np.less(x,y))\n",
    "print(np.less_equal(y,x))"
   ]
  },
  {
   "cell_type": "code",
   "execution_count": 6,
   "id": "49f4ce13",
   "metadata": {},
   "outputs": [
    {
     "name": "stdout",
     "output_type": "stream",
     "text": [
      "Original array:\n",
      "[  1   7  13 105]\n",
      "Size of  the array:\n",
      "16 bytes\n"
     ]
    }
   ],
   "source": [
    "X = np.array([1, 7, 13, 105])\n",
    "print(\"Original array:\")\n",
    "print(X)\n",
    "print(\"Size of  the array:\")\n",
    "print(\"%d bytes\" % (X.size * X.itemsize))"
   ]
  },
  {
   "cell_type": "code",
   "execution_count": 7,
   "id": "1a47560c",
   "metadata": {},
   "outputs": [
    {
     "name": "stdout",
     "output_type": "stream",
     "text": [
      "[1. 1. 1. 1. 1. 1. 1. 1. 1. 1.]\n",
      "[0. 0. 0. 0. 0. 0. 0. 0. 0. 0.]\n",
      "[5. 5. 5. 5. 5. 5. 5. 5. 5. 5.]\n"
     ]
    }
   ],
   "source": [
    "print(np.ones(10))\n",
    "print(np.zeros(10))\n",
    "print(np.ones(10)*5)"
   ]
  },
  {
   "cell_type": "code",
   "execution_count": 9,
   "id": "83d2f361",
   "metadata": {},
   "outputs": [
    {
     "name": "stdout",
     "output_type": "stream",
     "text": [
      "[30 31 32 33 34 35 36 37 38 39 40 41 42 43 44 45 46 47 48 49 50 51 52 53\n",
      " 54 55 56 57 58 59 60 61 62 63 64 65 66 67 68 69 70]\n"
     ]
    }
   ],
   "source": [
    "print(np.arange(30,71))"
   ]
  },
  {
   "cell_type": "code",
   "execution_count": 10,
   "id": "29a3ccc6",
   "metadata": {},
   "outputs": [
    {
     "name": "stdout",
     "output_type": "stream",
     "text": [
      "[[1. 0. 0.]\n",
      " [0. 1. 0.]\n",
      " [0. 0. 1.]]\n"
     ]
    }
   ],
   "source": [
    "print(np.identity(3))"
   ]
  },
  {
   "cell_type": "code",
   "execution_count": 13,
   "id": "65f21fb3",
   "metadata": {},
   "outputs": [
    {
     "name": "stdout",
     "output_type": "stream",
     "text": [
      "[-1.35814094 -0.33199261]\n"
     ]
    }
   ],
   "source": [
    "print(np.random.normal(0,1,2))#(lower,upper,count)"
   ]
  },
  {
   "cell_type": "code",
   "execution_count": 14,
   "id": "40c78a1f",
   "metadata": {},
   "outputs": [
    {
     "name": "stdout",
     "output_type": "stream",
     "text": [
      "[-1.61173723  1.31519878 -0.3669763  -0.10489682 -1.14464691  1.0240619\n",
      "  1.49816855 -0.03737873 -0.56926866 -0.03518554 -0.19441369 -1.71470099\n",
      " -0.14795629 -0.58355046  1.35402181]\n"
     ]
    }
   ],
   "source": [
    "print(np.random.normal(0,1,15))"
   ]
  },
  {
   "cell_type": "code",
   "execution_count": 19,
   "id": "a936bfd7",
   "metadata": {},
   "outputs": [
    {
     "name": "stdout",
     "output_type": "stream",
     "text": [
      "[15 16 17 18 19 20 21 22 23 24 25 26 27 28 29 30 31 32 33 34 35 36 37 38\n",
      " 39 40 41 42 43 44 45 46 47 48 49 50 51 52 53 54]\n",
      "[16 17 18 19 20 21 22 23 24 25 26 27 28 29 30 31 32 33 34 35 36 37 38 39\n",
      " 40 41 42 43 44 45 46 47 48 49 50 51 52 53]\n"
     ]
    }
   ],
   "source": [
    "v= np.arange(15,55)\n",
    "print(v)\n",
    "print(v[1:-1])"
   ]
  },
  {
   "cell_type": "code",
   "execution_count": 3,
   "id": "91d0f7fa",
   "metadata": {},
   "outputs": [
    {
     "name": "stdout",
     "output_type": "stream",
     "text": [
      "[10.   19.75 29.5  39.25 49.  ]\n"
     ]
    }
   ],
   "source": [
    "import numpy as np\n",
    "print(np.linspace(10,49,5))"
   ]
  },
  {
   "cell_type": "code",
   "execution_count": 8,
   "id": "9af50c18",
   "metadata": {},
   "outputs": [
    {
     "name": "stdout",
     "output_type": "stream",
     "text": [
      "[ 0  1  2  3  4  5  6  7  8  9 10 11 12 13 14 15 16 17 18 19 20]\n",
      "[  0   1   2   3   4   5   6   7   8  -9 -10 -11 -12 -13 -14 -15  16  17\n",
      "  18  19  20]\n"
     ]
    }
   ],
   "source": [
    "v=(np.arange(21))\n",
    "print(v)\n",
    "v[(v >= 9) & (v <= 15)] *= -1\n",
    "print(v)"
   ]
  },
  {
   "cell_type": "code",
   "execution_count": 9,
   "id": "24476623",
   "metadata": {},
   "outputs": [
    {
     "name": "stdout",
     "output_type": "stream",
     "text": [
      "[ 0  5 10]\n"
     ]
    }
   ],
   "source": [
    "print(np.arange(0,11,5))"
   ]
  },
  {
   "cell_type": "code",
   "execution_count": 12,
   "id": "ce8a1a0d",
   "metadata": {},
   "outputs": [
    {
     "name": "stdout",
     "output_type": "stream",
     "text": [
      "[195  35  48]\n"
     ]
    }
   ],
   "source": [
    "x=np.array([3,5,6])\n",
    "y=np.array([65,7,8])\n",
    "print(x*y)"
   ]
  },
  {
   "cell_type": "code",
   "execution_count": 20,
   "id": "95c37bfd",
   "metadata": {},
   "outputs": [
    {
     "name": "stdout",
     "output_type": "stream",
     "text": [
      "[[10 11 12 13]\n",
      " [14 15 16 17]\n",
      " [18 19 20 21]]\n"
     ]
    }
   ],
   "source": [
    "print(np.arange(10,22).reshape(3,4))\n"
   ]
  },
  {
   "cell_type": "code",
   "execution_count": 21,
   "id": "684a11d2",
   "metadata": {},
   "outputs": [
    {
     "name": "stdout",
     "output_type": "stream",
     "text": [
      "[[1. 0. 0.]\n",
      " [0. 1. 0.]\n",
      " [0. 0. 1.]]\n"
     ]
    }
   ],
   "source": [
    "print(np.eye(3))"
   ]
  },
  {
   "cell_type": "code",
   "execution_count": 22,
   "id": "dff20e9f",
   "metadata": {},
   "outputs": [
    {
     "name": "stdout",
     "output_type": "stream",
     "text": [
      "[[1. 0. 0. 0. 0. 0. 0.]\n",
      " [0. 1. 0. 0. 0. 0. 0.]\n",
      " [0. 0. 1. 0. 0. 0. 0.]\n",
      " [0. 0. 0. 1. 0. 0. 0.]\n",
      " [0. 0. 0. 0. 1. 0. 0.]\n",
      " [0. 0. 0. 0. 0. 1. 0.]\n",
      " [0. 0. 0. 0. 0. 0. 1.]]\n"
     ]
    }
   ],
   "source": [
    "print(np.eye(7))"
   ]
  },
  {
   "cell_type": "code",
   "execution_count": 2,
   "id": "ef6206ca",
   "metadata": {},
   "outputs": [
    {
     "name": "stdout",
     "output_type": "stream",
     "text": [
      "[[1. 1. 1. 1. 1. 1. 1. 1. 1. 1.]\n",
      " [1. 0. 0. 0. 0. 0. 0. 0. 0. 1.]\n",
      " [1. 0. 0. 0. 0. 0. 0. 0. 0. 1.]\n",
      " [1. 0. 0. 0. 0. 0. 0. 0. 0. 1.]\n",
      " [1. 0. 0. 0. 0. 0. 0. 0. 0. 1.]\n",
      " [1. 0. 0. 0. 0. 0. 0. 0. 0. 1.]\n",
      " [1. 0. 0. 0. 0. 0. 0. 0. 0. 1.]\n",
      " [1. 0. 0. 0. 0. 0. 0. 0. 0. 1.]\n",
      " [1. 0. 0. 0. 0. 0. 0. 0. 0. 1.]\n",
      " [1. 1. 1. 1. 1. 1. 1. 1. 1. 1.]]\n"
     ]
    }
   ],
   "source": [
    "import numpy as np\n",
    "x = np.ones((10, 10))\n",
    "x[1:-1, 1:-1] = 0\n",
    "print(x)"
   ]
  },
  {
   "cell_type": "code",
   "execution_count": 10,
   "id": "c9ab4a9f",
   "metadata": {},
   "outputs": [
    {
     "name": "stdout",
     "output_type": "stream",
     "text": [
      "[[1 0 0 0 0]\n",
      " [0 2 0 0 0]\n",
      " [0 0 3 0 0]\n",
      " [0 0 0 4 0]\n",
      " [0 0 0 0 5]]\n"
     ]
    }
   ],
   "source": [
    "import numpy as np\n",
    "x=np.diag([1, 2, 3, 4, 5])\n",
    "print(x)"
   ]
  },
  {
   "cell_type": "code",
   "execution_count": 15,
   "id": "455070e2",
   "metadata": {},
   "outputs": [
    {
     "name": "stdout",
     "output_type": "stream",
     "text": [
      "[[[0.75112816 0.96751768 0.81340179]\n",
      "  [0.96024707 0.44675117 0.03264376]\n",
      "  [0.07734558 0.38666792 0.31691483]]\n",
      "\n",
      " [[0.99453206 0.38822402 0.34663063]\n",
      "  [0.61096805 0.76446353 0.10745416]\n",
      "  [0.69495192 0.8215447  0.50031709]]\n",
      "\n",
      " [[0.64542809 0.81365228 0.03867082]\n",
      "  [0.0784825  0.05466114 0.24929876]\n",
      "  [0.71963385 0.20389813 0.04704217]]]\n"
     ]
    }
   ],
   "source": [
    "print(np.random.random((3,3,3)))"
   ]
  },
  {
   "cell_type": "code",
   "execution_count": 16,
   "id": "cf28f3c2",
   "metadata": {},
   "outputs": [
    {
     "name": "stdout",
     "output_type": "stream",
     "text": [
      "[2 3]\n",
      "[9 7]\n",
      "39\n"
     ]
    }
   ],
   "source": [
    "x=np.array([2,3])\n",
    "y=np.array([9,7])\n",
    "print(x)\n",
    "print(y)\n",
    "print(np.dot(x,y))"
   ]
  },
  {
   "cell_type": "code",
   "execution_count": 8,
   "id": "a4446b4e",
   "metadata": {},
   "outputs": [
    {
     "name": "stdout",
     "output_type": "stream",
     "text": [
      "[1 2 3]\n",
      "[4 5 6]\n",
      "6\n",
      "15\n",
      "[ 5 10]\n",
      "[ 3 12]\n"
     ]
    }
   ],
   "source": [
    "import numpy as np\n",
    "a=np.array([1,2,3])\n",
    "b=np.array([4,5,6])\n",
    "x=np.array([[1,2],[4,8]])\n",
    "print(a)\n",
    "print(b)\n",
    "print(np.sum(a))\n",
    "print(np.sum(b))\n",
    "#print(np.sum(a, axis=0))\n",
    "#print(np.sum(a, axis=1))\n",
    "print(np.sum(x,axis=0))\n",
    "print(np.sum(x,axis=1))\n"
   ]
  },
  {
   "cell_type": "code",
   "execution_count": 15,
   "id": "8a5ee2af",
   "metadata": {},
   "outputs": [
    {
     "name": "stdout",
     "output_type": "stream",
     "text": [
      "[[1, 2], [3, 4]]\n",
      "[[1 2]\n",
      " [3 4]]\n",
      "True\n"
     ]
    }
   ],
   "source": [
    "import numpy as np\n",
    "a = [[1, 2], [3, 4]]\n",
    "x = np.array(a)\n",
    "print(a)\n",
    "print(x)\n",
    "a2 = x.tolist()\n",
    "print(a == a2)\n"
   ]
  },
  {
   "cell_type": "code",
   "execution_count": 17,
   "id": "7662997f",
   "metadata": {},
   "outputs": [
    {
     "name": "stdout",
     "output_type": "stream",
     "text": [
      "0.0\n",
      "<class 'numpy.float32'>\n",
      "<class 'float'>\n"
     ]
    }
   ],
   "source": [
    "import numpy as np\n",
    "x = np.float32(0)\n",
    "print(x)\n",
    "print(type(x))\n",
    "pyval = x.item()\n",
    "print(type(pyval))"
   ]
  },
  {
   "cell_type": "code",
   "execution_count": 22,
   "id": "45791b12",
   "metadata": {},
   "outputs": [
    {
     "name": "stdout",
     "output_type": "stream",
     "text": [
      "[2 3 4]\n",
      "[5 6 7]\n",
      "[False False False]\n"
     ]
    }
   ],
   "source": [
    "x=np.array([2,3,4])\n",
    "y=np.array([5,6,7])\n",
    "z=np.array([2,6,4])\n",
    "print(x)\n",
    "print(y)\n",
    "print(np.equal(x,y,))"
   ]
  },
  {
   "cell_type": "code",
   "execution_count": 32,
   "id": "438f7a49",
   "metadata": {},
   "outputs": [
    {
     "name": "stdout",
     "output_type": "stream",
     "text": [
      "[[ 2  3  4]\n",
      " [ 0  6 32]\n",
      " [ 4  5 22]]\n",
      "[[ 2  3  0]\n",
      " [22  4  4]\n",
      " [32  6  5]]\n",
      "[[ 2  3  4]\n",
      " [ 0  6 32]\n",
      " [ 4  5 22]]\n"
     ]
    }
   ],
   "source": [
    "x=np.array([[2,3,4],[32,6,0],[22,4,5]])\n",
    "print(np.sort(x))\n",
    "print(np.sort(x,axis=0))#column wise\n",
    "print(np.sort(x,axis=1))#row wise"
   ]
  },
  {
   "cell_type": "code",
   "execution_count": 33,
   "id": "1c780088",
   "metadata": {},
   "outputs": [
    {
     "ename": "NameError",
     "evalue": "name 'n' is not defined",
     "output_type": "error",
     "traceback": [
      "\u001b[1;31m---------------------------------------------------------------------------\u001b[0m",
      "\u001b[1;31mNameError\u001b[0m                                 Traceback (most recent call last)",
      "Input \u001b[1;32mIn [33]\u001b[0m, in \u001b[0;36m<cell line: 1>\u001b[1;34m()\u001b[0m\n\u001b[1;32m----> 1\u001b[0m \u001b[38;5;28mprint\u001b[39m(x[x\u001b[38;5;241m<\u001b[39m\u001b[43mn\u001b[49m])\n\u001b[0;32m      2\u001b[0m n\u001b[38;5;241m=\u001b[39m\u001b[38;5;241m3\u001b[39m\n",
      "\u001b[1;31mNameError\u001b[0m: name 'n' is not defined"
     ]
    }
   ],
   "source": [
    "print(x[x<n])\n",
    "n=3\n",
    "\n",
    "\n"
   ]
  },
  {
   "cell_type": "code",
   "execution_count": null,
   "id": "a31202ff",
   "metadata": {},
   "outputs": [],
   "source": []
  }
 ],
 "metadata": {
  "kernelspec": {
   "display_name": "Python 3 (ipykernel)",
   "language": "python",
   "name": "python3"
  },
  "language_info": {
   "codemirror_mode": {
    "name": "ipython",
    "version": 3
   },
   "file_extension": ".py",
   "mimetype": "text/x-python",
   "name": "python",
   "nbconvert_exporter": "python",
   "pygments_lexer": "ipython3",
   "version": "3.9.12"
  }
 },
 "nbformat": 4,
 "nbformat_minor": 5
}
