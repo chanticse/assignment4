{
 "cells": [
  {
   "cell_type": "markdown",
   "id": "17817942",
   "metadata": {},
   "source": [
    "## LINEAR REGRESSION"
   ]
  },
  {
   "cell_type": "code",
   "execution_count": 35,
   "id": "e7a9ca49",
   "metadata": {},
   "outputs": [
    {
     "name": "stdout",
     "output_type": "stream",
     "text": [
      "0.9625668449197862\n",
      "-6.9999999999999964\n",
      "[6.]\n",
      "[-1.  5. 11. 17. 23.]\n",
      "[[-1.]\n",
      " [ 5.]\n",
      " [11.]\n",
      " [17.]\n",
      " [23.]]\n",
      "1.0\n"
     ]
    },
    {
     "data": {
      "image/png": "[encoded data removed]",
      "text/plain": [
       "<Figure size 432x288 with 1 Axes>"
      ]
     },
     "metadata": {
      "needs_background": "light"
     },
     "output_type": "display_data"
    }
   ],
   "source": [
    "import numpy as np\n",
    "import matplotlib.pyplot as plt\n",
    "from sklearn.model_selection import train_test_split\n",
    "x=np.array([1,2,3,4,5]).reshape(-1,1)\n",
    "y=np.array([1,4,9,16,25])\n",
    "from sklearn.linear_model import LinearRegression\n",
    "lin_reg=LinearRegression()\n",
    "lin_reg.fit(x,y)\n",
    "r_sq=lin_reg.score(x,y)\n",
    "print(r_sq)\n",
    "print(lin_reg.intercept_)\n",
    "print(lin_reg.coef_)\n",
    "y_p=lin_reg.predict(x)\n",
    "print(y_p)\n",
    "y_p=lin_reg.intercept_+lin_reg.coef_*x\n",
    "print(y_p)\n",
    "after_p=lin_reg.score(x,y_p)\n",
    "print(after_p)\n",
    "plt.scatter(x,y,color=\"green\")\n",
    "plt.plot(x,lin_reg.predict(x),color=\"red\")\n",
    "plt.title(\"linear regression\")\n",
    "plt.show()"
   ]
  },
  {
   "cell_type": "markdown",
   "id": "3885cec7",
   "metadata": {},
   "source": [
    "## multilinear "
   ]
  },
  {
   "cell_type": "code",
   "execution_count": 37,
   "id": "ce921078",
   "metadata": {},
   "outputs": [
    {
     "name": "stdout",
     "output_type": "stream",
     "text": [
      "0.9063576708700778\n",
      "intercept:-14.611697127456814\n",
      "coefficient:[0.85876928 0.09857606]\n",
      "[-4.09247386 12.03856593  6.88595023 13.91326583 66.25469187]\n",
      "[-4.09247386 12.03856593  6.88595023 13.91326583 66.25469187]\n"
     ]
    }
   ],
   "source": [
    "x=[[1,98] ,[30,9], [24,9],[23,89],[89,45]]\n",
    "y=[6,8,10,1,70]\n",
    "model=LinearRegression().fit(x,y)\n",
    "score=model.score(x,y)\n",
    "print(score)\n",
    "print(f\"intercept:{model.intercept_}\")\n",
    "print(f\"coefficient:{model.coef_}\")\n",
    "y_p=model.predict(x)\n",
    "print(y_p)\n",
    "#check prediction values whether correct or not\n",
    "y_p=model.intercept_+np.sum(model.coef_*x,axis=1)\n",
    "print(y_p)"
   ]
  },
  {
   "cell_type": "code",
   "execution_count": 34,
   "id": "195d158f",
   "metadata": {},
   "outputs": [
    {
     "name": "stdout",
     "output_type": "stream",
     "text": [
      "[[0 1]\n",
      " [2 3]\n",
      " [4 5]\n",
      " [6 7]\n",
      " [8 9]]\n",
      "[-14.51312107 -12.59843038 -10.68373969  -8.769049    -6.85435831]\n"
     ]
    }
   ],
   "source": [
    "x_new=np.arange(10).reshape((-1,2))\n",
    "y_new=model.predict(x_new)\n",
    "print(x_new)\n",
    "print(y_new)\n"
   ]
  },
  {
   "cell_type": "markdown",
   "id": "2a17ce8e",
   "metadata": {},
   "source": [
    "## polynomial"
   ]
  },
  {
   "cell_type": "code",
   "execution_count": 6,
   "id": "8caa41bc",
   "metadata": {},
   "outputs": [
    {
     "name": "stdout",
     "output_type": "stream",
     "text": [
      "0.23231178432876454\n",
      "intercept:2.948234695419778\n",
      "coefficient:[ 1.26232237 -0.02075078]\n",
      "[ 6.54844476 17.10640738 -2.67286848 22.13872594 21.87929041]\n",
      "[ 6.67294946 60.06052776 83.65038794 41.43695394 45.1616687 ]\n",
      "-2.217525175682931\n"
     ]
    }
   ],
   "source": [
    "import numpy as np\n",
    "from sklearn.linear_model import LinearRegression\n",
    "from sklearn.preprocessing import PolynomialFeatures\n",
    "x=np.array([3,46,65,31,34]).reshape(-1,1)\n",
    "y=np.array([3,1,3,53,5])\n",
    "t=PolynomialFeatures(degree=2,include_bias=False)\n",
    "t.fit(x)\n",
    "x_=t.transform(x)\n",
    "model=LinearRegression().fit(x_,y)\n",
    "score=model.score(x_,y)\n",
    "print(score)\n",
    "print(f\"intercept:{model.intercept_}\")\n",
    "print(f\"coefficient:{model.coef_}\")\n",
    "y_p=model.predict(x_)\n",
    "print(y_p)\n",
    "#check prediction values whether correct or not\n",
    "y_p=model.intercept_+np.sum(model.coef_*x,axis=1)\n",
    "print(y_p)\n",
    "print(model.score(x_,y_p))"
   ]
  },
  {
   "cell_type": "code",
   "execution_count": null,
   "id": "863a2b5b",
   "metadata": {},
   "outputs": [],
   "source": []
  }
 ],
 "metadata": {
  "kernelspec": {
   "display_name": "Python 3 (ipykernel)",
   "language": "python",
   "name": "python3"
  },
  "language_info": {
   "codemirror_mode": {
    "name": "ipython",
    "version": 3
   },
   "file_extension": ".py",
   "mimetype": "text/x-python",
   "name": "python",
   "nbconvert_exporter": "python",
   "pygments_lexer": "ipython3",
   "version": "3.9.12"
  }
 },
 "nbformat": 4,
 "nbformat_minor": 5
}
