{
 "cells": [
  {
   "cell_type": "code",
   "execution_count": 4,
   "id": "1e695b83",
   "metadata": {},
   "outputs": [
    {
     "data": {
      "text/plain": [
       "<re.Match object; span=(0, 3), match='aaa'>"
      ]
     },
     "execution_count": 4,
     "metadata": {},
     "output_type": "execute_result"
    }
   ],
   "source": [
    "import re\n",
    "#text=\"aaabccchfuei\"\n",
    "re.search(\"aaa\",\"aaafuyf\")"
   ]
  },
  {
   "cell_type": "code",
   "execution_count": 5,
   "id": "d7b4efcd",
   "metadata": {},
   "outputs": [
    {
     "data": {
      "text/plain": [
       "<re.Match object; span=(1, 4), match='hii'>"
      ]
     },
     "execution_count": 5,
     "metadata": {},
     "output_type": "execute_result"
    }
   ],
   "source": [
    "text=\" hii how are you\"\n",
    "re.search(\"hii\",text)"
   ]
  },
  {
   "cell_type": "code",
   "execution_count": 7,
   "id": "e6608309",
   "metadata": {},
   "outputs": [
    {
     "data": {
      "text/plain": [
       "<re.Match object; span=(5, 8), match='how'>"
      ]
     },
     "execution_count": 7,
     "metadata": {},
     "output_type": "execute_result"
    }
   ],
   "source": [
    "re.search(\"how\",text)"
   ]
  },
  {
   "cell_type": "code",
   "execution_count": 8,
   "id": "55897a2a",
   "metadata": {},
   "outputs": [
    {
     "name": "stdout",
     "output_type": "stream",
     "text": [
      "The first white-space character is located in position: 0\n"
     ]
    }
   ],
   "source": [
    "\n",
    "x = re.search(\"\\s\", text)\n",
    "print(\"The first white-space character is located in position:\", x.start()) "
   ]
  },
  {
   "cell_type": "code",
   "execution_count": 10,
   "id": "3100e079",
   "metadata": {},
   "outputs": [
    {
     "name": "stdout",
     "output_type": "stream",
     "text": [
      "['h', 'h']\n"
     ]
    }
   ],
   "source": [
    "x = re.findall(\"h\", text)\n",
    "print(x)"
   ]
  },
  {
   "cell_type": "code",
   "execution_count": 11,
   "id": "f532b336",
   "metadata": {},
   "outputs": [
    {
     "name": "stdout",
     "output_type": "stream",
     "text": [
      "[]\n"
     ]
    }
   ],
   "source": [
    "x = re.findall(\"ey\", text)\n",
    "print(x)"
   ]
  },
  {
   "cell_type": "code",
   "execution_count": 12,
   "id": "d7237f00",
   "metadata": {},
   "outputs": [
    {
     "name": "stdout",
     "output_type": "stream",
     "text": [
      "['o', 'o']\n"
     ]
    }
   ],
   "source": [
    "x = re.findall(\"o\", text)\n",
    "print(x)"
   ]
  },
  {
   "cell_type": "code",
   "execution_count": 13,
   "id": "881b9ced",
   "metadata": {},
   "outputs": [
    {
     "data": {
      "text/plain": [
       "['8', '1', '1', '4', '5']"
      ]
     },
     "execution_count": 13,
     "metadata": {},
     "output_type": "execute_result"
    }
   ],
   "source": [
    "txt = \"8 times before 11:45 AM\"\n",
    "re.findall(\"[0-9]\", txt)"
   ]
  },
  {
   "cell_type": "code",
   "execution_count": 14,
   "id": "e7919de6",
   "metadata": {},
   "outputs": [
    {
     "data": {
      "text/plain": [
       "['5', '9']"
      ]
     },
     "execution_count": 14,
     "metadata": {},
     "output_type": "execute_result"
    }
   ],
   "source": [
    "txt = \"That will be 59 dollars\"\n",
    "re.findall(\"\\d\", txt)"
   ]
  },
  {
   "cell_type": "code",
   "execution_count": 15,
   "id": "409ffb8d",
   "metadata": {},
   "outputs": [
    {
     "data": {
      "text/plain": [
       "[]"
      ]
     },
     "execution_count": 15,
     "metadata": {},
     "output_type": "execute_result"
    }
   ],
   "source": [
    "re.findall(\"t..t\",txt)"
   ]
  },
  {
   "cell_type": "code",
   "execution_count": 16,
   "id": "ceedb097",
   "metadata": {},
   "outputs": [
    {
     "data": {
      "text/plain": [
       "<re.Match object; span=(0, 4), match='That'>"
      ]
     },
     "execution_count": 16,
     "metadata": {},
     "output_type": "execute_result"
    }
   ],
   "source": [
    "re.search(\"T..t\",txt)"
   ]
  },
  {
   "cell_type": "code",
   "execution_count": 17,
   "id": "49764e77",
   "metadata": {},
   "outputs": [
    {
     "data": {
      "text/plain": [
       "['That']"
      ]
     },
     "execution_count": 17,
     "metadata": {},
     "output_type": "execute_result"
    }
   ],
   "source": [
    "re.findall(\"T..t\",txt)"
   ]
  },
  {
   "cell_type": "code",
   "execution_count": 18,
   "id": "81b4a2f3",
   "metadata": {},
   "outputs": [
    {
     "data": {
      "text/plain": [
       "[]"
      ]
     },
     "execution_count": 18,
     "metadata": {},
     "output_type": "execute_result"
    }
   ],
   "source": [
    "re.findall(\"T...t\",txt)"
   ]
  },
  {
   "cell_type": "code",
   "execution_count": 19,
   "id": "7567ee2c",
   "metadata": {},
   "outputs": [
    {
     "data": {
      "text/plain": [
       "[]"
      ]
     },
     "execution_count": 19,
     "metadata": {},
     "output_type": "execute_result"
    }
   ],
   "source": [
    "re.findall(\"^hii\",txt)"
   ]
  },
  {
   "cell_type": "code",
   "execution_count": 21,
   "id": "d1ecec74",
   "metadata": {},
   "outputs": [],
   "source": [
    "re.search(\"^hii\",txt)"
   ]
  },
  {
   "cell_type": "code",
   "execution_count": 22,
   "id": "f482139c",
   "metadata": {},
   "outputs": [
    {
     "data": {
      "text/plain": [
       "['That']"
      ]
     },
     "execution_count": 22,
     "metadata": {},
     "output_type": "execute_result"
    }
   ],
   "source": [
    "re.findall(\"^That\",txt)"
   ]
  },
  {
   "cell_type": "code",
   "execution_count": 23,
   "id": "d707615b",
   "metadata": {},
   "outputs": [
    {
     "data": {
      "text/plain": [
       "[]"
      ]
     },
     "execution_count": 23,
     "metadata": {},
     "output_type": "execute_result"
    }
   ],
   "source": [
    "re.findall(\"^that\",txt)"
   ]
  },
  {
   "cell_type": "code",
   "execution_count": 25,
   "id": "68d4ef00",
   "metadata": {},
   "outputs": [
    {
     "data": {
      "text/plain": [
       "['ars']"
      ]
     },
     "execution_count": 25,
     "metadata": {},
     "output_type": "execute_result"
    }
   ],
   "source": [
    " re.findall(\"ars\",txt)"
   ]
  },
  {
   "cell_type": "code",
   "execution_count": 26,
   "id": "fc770705",
   "metadata": {},
   "outputs": [
    {
     "data": {
      "text/plain": [
       "['dollars']"
      ]
     },
     "execution_count": 26,
     "metadata": {},
     "output_type": "execute_result"
    }
   ],
   "source": [
    "re.findall(\"dollars\",txt)"
   ]
  },
  {
   "cell_type": "code",
   "execution_count": 27,
   "id": "bee60172",
   "metadata": {},
   "outputs": [
    {
     "data": {
      "text/plain": [
       "[]"
      ]
     },
     "execution_count": 27,
     "metadata": {},
     "output_type": "execute_result"
    }
   ],
   "source": [
    "re.findall(\"Dollars\",txt)"
   ]
  },
  {
   "cell_type": "code",
   "execution_count": 28,
   "id": "a5bdec4a",
   "metadata": {},
   "outputs": [
    {
     "data": {
      "text/plain": [
       "<re.Match object; span=(16, 23), match='dollars'>"
      ]
     },
     "execution_count": 28,
     "metadata": {},
     "output_type": "execute_result"
    }
   ],
   "source": [
    "re.search(\"dollars\",txt)"
   ]
  },
  {
   "cell_type": "code",
   "execution_count": 29,
   "id": "e761ccd3",
   "metadata": {},
   "outputs": [
    {
     "data": {
      "text/plain": [
       "[]"
      ]
     },
     "execution_count": 29,
     "metadata": {},
     "output_type": "execute_result"
    }
   ],
   "source": [
    "re.findall(\"he.*o\",text)"
   ]
  },
  {
   "cell_type": "code",
   "execution_count": 30,
   "id": "a3845d78",
   "metadata": {},
   "outputs": [
    {
     "data": {
      "text/plain": [
       "['hi', 'i']"
      ]
     },
     "execution_count": 30,
     "metadata": {},
     "output_type": "execute_result"
    }
   ],
   "source": [
    "re.findall(\"h*i\",text)"
   ]
  },
  {
   "cell_type": "code",
   "execution_count": 32,
   "id": "87363e25",
   "metadata": {},
   "outputs": [
    {
     "data": {
      "text/plain": [
       "['hii how']"
      ]
     },
     "execution_count": 32,
     "metadata": {},
     "output_type": "execute_result"
    }
   ],
   "source": [
    "re.findall(\"h.+w\",text)"
   ]
  },
  {
   "cell_type": "code",
   "execution_count": 34,
   "id": "40ad7691",
   "metadata": {},
   "outputs": [
    {
     "data": {
      "text/plain": [
       "[]"
      ]
     },
     "execution_count": 34,
     "metadata": {},
     "output_type": "execute_result"
    }
   ],
   "source": [
    "re.findall(\"do.{3}s\",txt)"
   ]
  },
  {
   "cell_type": "code",
   "execution_count": 35,
   "id": "b4027f38",
   "metadata": {},
   "outputs": [
    {
     "data": {
      "text/plain": [
       "['dollars']"
      ]
     },
     "execution_count": 35,
     "metadata": {},
     "output_type": "execute_result"
    }
   ],
   "source": [
    "re.findall(\"do.{2}ars\",txt)"
   ]
  },
  {
   "cell_type": "code",
   "execution_count": 36,
   "id": "bd40229b",
   "metadata": {},
   "outputs": [
    {
     "data": {
      "text/plain": [
       "['dollars']"
      ]
     },
     "execution_count": 36,
     "metadata": {},
     "output_type": "execute_result"
    }
   ],
   "source": [
    "re.findall(\"do.{4}s\",txt)"
   ]
  },
  {
   "cell_type": "code",
   "execution_count": 38,
   "id": "e47b2df1",
   "metadata": {},
   "outputs": [
    {
     "data": {
      "text/plain": [
       "['hii']"
      ]
     },
     "execution_count": 38,
     "metadata": {},
     "output_type": "execute_result"
    }
   ],
   "source": [
    "re.findall(\"hii|namasthe\",text)"
   ]
  },
  {
   "cell_type": "raw",
   "id": "39fcc685",
   "metadata": {},
   "source": []
  },
  {
   "cell_type": "code",
   "execution_count": 39,
   "id": "91b77bc1",
   "metadata": {},
   "outputs": [
    {
     "data": {
      "text/plain": [
       "[' ', ' ', ' ', ' ']"
      ]
     },
     "execution_count": 39,
     "metadata": {},
     "output_type": "execute_result"
    }
   ],
   "source": [
    "re.findall(\"\\s\",text)"
   ]
  },
  {
   "cell_type": "code",
   "execution_count": 40,
   "id": "390a326f",
   "metadata": {},
   "outputs": [
    {
     "data": {
      "text/plain": [
       "['', 'hii', 'how', 'are', 'you']"
      ]
     },
     "execution_count": 40,
     "metadata": {},
     "output_type": "execute_result"
    }
   ],
   "source": [
    "re.split(\"\\s\",text)"
   ]
  },
  {
   "cell_type": "code",
   "execution_count": 41,
   "id": "b0f8efd3",
   "metadata": {},
   "outputs": [
    {
     "data": {
      "text/plain": [
       "['', 'hii how are you']"
      ]
     },
     "execution_count": 41,
     "metadata": {},
     "output_type": "execute_result"
    }
   ],
   "source": [
    "re.split(\"\\s\",text,1)"
   ]
  },
  {
   "cell_type": "code",
   "execution_count": 42,
   "id": "4ef908f4",
   "metadata": {},
   "outputs": [
    {
     "data": {
      "text/plain": [
       "[' ', 'ii ', 'ow are you']"
      ]
     },
     "execution_count": 42,
     "metadata": {},
     "output_type": "execute_result"
    }
   ],
   "source": [
    "re.split(\"h\",text)"
   ]
  },
  {
   "cell_type": "code",
   "execution_count": 43,
   "id": "d8b7cf46",
   "metadata": {},
   "outputs": [
    {
     "data": {
      "text/plain": [
       "'chiichowcarecyou'"
      ]
     },
     "execution_count": 43,
     "metadata": {},
     "output_type": "execute_result"
    }
   ],
   "source": [
    "re.sub(\"\\s\",\"c\",text)"
   ]
  },
  {
   "cell_type": "code",
   "execution_count": 44,
   "id": "a2b29334",
   "metadata": {},
   "outputs": [
    {
     "data": {
      "text/plain": [
       "'qqhii how are you'"
      ]
     },
     "execution_count": 44,
     "metadata": {},
     "output_type": "execute_result"
    }
   ],
   "source": [
    "re.sub(\"\\s\",\"qq\",text,1)"
   ]
  },
  {
   "cell_type": "code",
   "execution_count": null,
   "id": "1c73f5e4",
   "metadata": {},
   "outputs": [],
   "source": [
    "import re\n"
   ]
  }
 ],
 "metadata": {
  "kernelspec": {
   "display_name": "Python 3 (ipykernel)",
   "language": "python",
   "name": "python3"
  },
  "language_info": {
   "codemirror_mode": {
    "name": "ipython",
    "version": 3
   },
   "file_extension": ".py",
   "mimetype": "text/x-python",
   "name": "python",
   "nbconvert_exporter": "python",
   "pygments_lexer": "ipython3",
   "version": "3.9.12"
  }
 },
 "nbformat": 4,
 "nbformat_minor": 5
}
