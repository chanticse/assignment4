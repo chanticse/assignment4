{
 "cells": [
  {
   "cell_type": "markdown",
   "id": "2baffda0",
   "metadata": {},
   "source": [
    " ## OVERFITTING"
   ]
  },
  {
   "cell_type": "code",
   "execution_count": 1,
   "id": "4a72b0dd",
   "metadata": {},
   "outputs": [],
   "source": [
    "import pandas as pd \n",
    "import numpy as np\n",
    "import matplotlib.pyplot as plt\n",
    "import seaborn as sns\n",
    "from sklearn.linear_model import LinearRegression"
   ]
  },
  {
   "cell_type": "code",
   "execution_count": 2,
   "id": "acc6b9d3",
   "metadata": {},
   "outputs": [],
   "source": [
    "x=np.array([1,6,3,9,5,10,2,302,123,1232,4324,341,4341,12]).reshape(-1,1)\n",
    "y=np.array([5,10,5,10,29,4525,434,134,24252,2435,211,44,3212,454])"
   ]
  },
  {
   "cell_type": "code",
   "execution_count": 3,
   "id": "d5159158",
   "metadata": {},
   "outputs": [
    {
     "name": "stdout",
     "output_type": "stream",
     "text": [
      "[[   1]\n",
      " [   6]\n",
      " [   3]\n",
      " [   9]\n",
      " [   5]\n",
      " [  10]\n",
      " [   2]\n",
      " [ 302]\n",
      " [ 123]\n",
      " [1232]\n",
      " [4324]\n",
      " [ 341]\n",
      " [4341]\n",
      " [  12]]\n",
      "[    5    10     5    10    29  4525   434   134 24252  2435   211    44\n",
      "  3212   454]\n"
     ]
    }
   ],
   "source": [
    "print(x)\n",
    "print(y)"
   ]
  },
  {
   "cell_type": "code",
   "execution_count": 4,
   "id": "d8ec46ab",
   "metadata": {},
   "outputs": [],
   "source": [
    "model=LinearRegression()"
   ]
  },
  {
   "cell_type": "code",
   "execution_count": 5,
   "id": "9e52efb2",
   "metadata": {},
   "outputs": [
    {
     "data": {
      "text/plain": [
       "LinearRegression()"
      ]
     },
     "execution_count": 5,
     "metadata": {},
     "output_type": "execute_result"
    }
   ],
   "source": [
    "model.fit(x,y)"
   ]
  },
  {
   "cell_type": "code",
   "execution_count": 6,
   "id": "fa77a16c",
   "metadata": {},
   "outputs": [
    {
     "name": "stdout",
     "output_type": "stream",
     "text": [
      "intercept: 2712.1124582708662\n",
      "coefficient: [-0.20629021]\n"
     ]
    }
   ],
   "source": [
    "print(\"intercept:\",model.intercept_)\n",
    "print(\"coefficient:\",model.coef_)"
   ]
  },
  {
   "cell_type": "code",
   "execution_count": 7,
   "id": "837528d8",
   "metadata": {},
   "outputs": [
    {
     "name": "stdout",
     "output_type": "stream",
     "text": [
      "0.0024774252850991996\n"
     ]
    }
   ],
   "source": [
    "print(model.score(x,y))"
   ]
  },
  {
   "cell_type": "code",
   "execution_count": 8,
   "id": "9056ecab",
   "metadata": {},
   "outputs": [
    {
     "name": "stdout",
     "output_type": "stream",
     "text": [
      "[2711.90616806 2710.87471702 2711.49358765 2710.2558464  2711.08100723\n",
      " 2710.04955619 2711.69987786 2649.81281551 2686.73876271 2457.96292226\n",
      " 1820.11359972 2641.76749741 1816.60666619 2709.63697578]\n"
     ]
    }
   ],
   "source": [
    "y_p=model.predict(x)\n",
    "print(y_p)"
   ]
  },
  {
   "cell_type": "code",
   "execution_count": 9,
   "id": "12148cf3",
   "metadata": {},
   "outputs": [
    {
     "name": "stdout",
     "output_type": "stream",
     "text": [
      "[[2711.90616806]\n",
      " [2710.87471702]\n",
      " [2711.49358765]\n",
      " [2710.2558464 ]\n",
      " [2711.08100723]\n",
      " [2710.04955619]\n",
      " [2711.69987786]\n",
      " [2649.81281551]\n",
      " [2686.73876271]\n",
      " [2457.96292226]\n",
      " [1820.11359972]\n",
      " [2641.76749741]\n",
      " [1816.60666619]\n",
      " [2709.63697578]]\n",
      "1.0\n"
     ]
    }
   ],
   "source": [
    "y_p=model.intercept_+model.coef_*x\n",
    "print(y_p)\n",
    "print(model.score(x,y_p))"
   ]
  },
  {
   "cell_type": "code",
   "execution_count": 10,
   "id": "e3a34511",
   "metadata": {},
   "outputs": [
    {
     "data": {
      "image/png": "[encoded data removed]",
      "text/plain": [
       "<Figure size 432x288 with 1 Axes>"
      ]
     },
     "metadata": {
      "needs_background": "light"
     },
     "output_type": "display_data"
    }
   ],
   "source": [
    "plt.scatter(x,y,color=\"red\")\n",
    "plt.plot(x,y_p,color=\"green\")\n",
    "\n",
    "plt.show()"
   ]
  },
  {
   "cell_type": "code",
   "execution_count": null,
   "id": "d8c15e78",
   "metadata": {},
   "outputs": [],
   "source": []
  },
  {
   "cell_type": "markdown",
   "id": "cd668148",
   "metadata": {},
   "source": [
    "## UNDERFITTING"
   ]
  },
  {
   "cell_type": "code",
   "execution_count": 11,
   "id": "1576cc7f",
   "metadata": {},
   "outputs": [
    {
     "data": {
      "image/png": "[encoded data removed]",
      "text/plain": [
       "<Figure size 432x288 with 1 Axes>"
      ]
     },
     "metadata": {
      "needs_background": "light"
     },
     "output_type": "display_data"
    }
   ],
   "source": [
    "import numpy as np\n",
    "import matplotlib.pyplot as plt\n",
    "from sklearn.model_selection import train_test_split\n",
    "x=np.array([1,2,3,4,5]).reshape(-1,1)\n",
    "y=np.array([1,4,9,16,25])\n",
    "from sklearn.linear_model import LinearRegression\n",
    "lin_reg=LinearRegression()\n",
    "lin_reg.fit(x,y)\n",
    "plt.scatter(x,y,color=\"green\")\n",
    "plt.plot(x,lin_reg.predict(x),color=\"red\")\n",
    "plt.title(\"linear regression\")\n",
    "plt.show()\n"
   ]
  },
  {
   "cell_type": "markdown",
   "id": "5e1b4765",
   "metadata": {},
   "source": []
  },
  {
   "cell_type": "code",
   "execution_count": null,
   "id": "d91bb6dc",
   "metadata": {},
   "outputs": [],
   "source": []
  },
  {
   "cell_type": "code",
   "execution_count": null,
   "id": "cca828c3",
   "metadata": {},
   "outputs": [],
   "source": []
  },
  {
   "cell_type": "code",
   "execution_count": null,
   "id": "50a005b2",
   "metadata": {},
   "outputs": [],
   "source": []
  },
  {
   "cell_type": "code",
   "execution_count": null,
   "id": "536766e7",
   "metadata": {},
   "outputs": [],
   "source": []
  },
  {
   "cell_type": "code",
   "execution_count": null,
   "id": "0ee420bc",
   "metadata": {},
   "outputs": [],
   "source": []
  }
 ],
 "metadata": {
  "kernelspec": {
   "display_name": "Python 3 (ipykernel)",
   "language": "python",
   "name": "python3"
  },
  "language_info": {
   "codemirror_mode": {
    "name": "ipython",
    "version": 3
   },
   "file_extension": ".py",
   "mimetype": "text/x-python",
   "name": "python",
   "nbconvert_exporter": "python",
   "pygments_lexer": "ipython3",
   "version": "3.9.12"
  }
 },
 "nbformat": 4,
 "nbformat_minor": 5
}
